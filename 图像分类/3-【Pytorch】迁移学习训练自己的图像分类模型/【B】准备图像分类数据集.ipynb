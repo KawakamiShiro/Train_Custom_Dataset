{
 "cells": [
  {
   "cell_type": "markdown",
   "id": "4a36abc9-47b6-4e9a-8d2c-330e64012db2",
   "metadata": {},
   "source": [
    "# 准备图像分类数据集\n",
    "\n",
    "同济子豪兄：https://space.bilibili.com/1900783\n",
    "\n",
    "[代码运行云GPU环境](https://featurize.cn/?s=d7ce99f842414bfcaea5662a97581bd1)：GPU RTX 3060、CUDA v11.2\n",
    "\n",
    "## 构建自己的图像分类数据集\n",
    "\n",
    "https://www.bilibili.com/video/BV1Jd4y1T7rw"
   ]
  },
  {
   "cell_type": "markdown",
   "id": "e0f48f3b-5137-4b11-a529-4ae41c8806e4",
   "metadata": {},
   "source": [
    "## 下载样例数据集"
   ]
  },
  {
   "cell_type": "code",
   "execution_count": 1,
   "id": "70a97135-b7a8-4817-a43d-742171ac5978",
   "metadata": {},
   "outputs": [
    {
     "name": "stdout",
     "output_type": "stream",
     "text": [
      "--2023-03-26 17:13:25--  https://zihao-openmmlab.obs.cn-east-3.myhuaweicloud.com/20220716-mmclassification/dataset/fruit30/fruit30_split.zip\n",
      "正在连接 172.16.0.13:5848... 已连接。\n",
      "已发出 Proxy 请求，正在等待回应... 200 OK\n",
      "长度： 226278151 (216M) [application/zip]\n",
      "正在保存至: “fruit30_split.zip”\n",
      "\n",
      "fruit30_split.zip   100%[===================>] 215.79M  46.1MB/s    用时 4.9s    \n",
      "\n",
      "2023-03-26 17:13:30 (43.9 MB/s) - 已保存 “fruit30_split.zip” [226278151/226278151])\n",
      "\n"
     ]
    }
   ],
   "source": [
    "# 下载数据集压缩包\n",
    "!wget https://zihao-openmmlab.obs.cn-east-3.myhuaweicloud.com/20220716-mmclassification/dataset/fruit30/fruit30_split.zip"
   ]
  },
  {
   "cell_type": "code",
   "execution_count": 2,
   "id": "21711cbb-685d-40ff-9ec9-2348d8d1a1a1",
   "metadata": {},
   "outputs": [],
   "source": [
    "# 解压\n",
    "!unzip fruit30_split.zip >> /dev/null"
   ]
  },
  {
   "cell_type": "code",
   "execution_count": 3,
   "id": "b9324762-352f-4b9c-b9e8-2b299c0ef2fc",
   "metadata": {},
   "outputs": [],
   "source": [
    "# 删除压缩包\n",
    "!rm fruit30_split.zip"
   ]
  },
  {
   "cell_type": "markdown",
   "id": "55155fe0-2d99-458e-bdb2-ac894d7a6046",
   "metadata": {},
   "source": [
    "## 查看数据集目录结构"
   ]
  },
  {
   "cell_type": "code",
   "execution_count": 2,
   "id": "f06d00df-aa4f-41fe-a2be-50a677bb5a3f",
   "metadata": {
    "ExecuteTime": {
     "end_time": "2023-07-15T08:05:27.455303700Z",
     "start_time": "2023-07-15T08:05:21.348858800Z"
    }
   },
   "outputs": [
    {
     "name": "stdout",
     "output_type": "stream",
     "text": [
      "Collecting tree\n",
      "  Downloading Tree-0.2.4.tar.gz (6.5 kB)\n",
      "  Preparing metadata (setup.py): started\n",
      "  Preparing metadata (setup.py): finished with status 'done'\n",
      "Requirement already satisfied: Pillow in c:\\users\\20363\\appdata\\roaming\\python\\python310\\site-packages (from tree) (10.0.0)\n",
      "Collecting svgwrite\n",
      "  Downloading svgwrite-1.4.3-py3-none-any.whl (67 kB)\n",
      "     ---------------------------------------- 67.1/67.1 kB 1.8 MB/s eta 0:00:00\n",
      "Requirement already satisfied: setuptools in c:\\users\\20363\\anaconda3\\lib\\site-packages (from tree) (65.6.3)\n",
      "Requirement already satisfied: click in c:\\users\\20363\\anaconda3\\lib\\site-packages (from tree) (8.0.4)\n",
      "Requirement already satisfied: colorama in c:\\users\\20363\\anaconda3\\lib\\site-packages (from click->tree) (0.4.6)\n",
      "Building wheels for collected packages: tree\n",
      "  Building wheel for tree (setup.py): started\n",
      "  Building wheel for tree (setup.py): finished with status 'done'\n",
      "  Created wheel for tree: filename=Tree-0.2.4-py3-none-any.whl size=7878 sha256=55d3bf5f8904a7a2d6d2726b58490d70e8c2e2a89dc8cb47e795eef121926da7\n",
      "  Stored in directory: c:\\users\\20363\\appdata\\local\\pip\\cache\\wheels\\a7\\c6\\ec\\eb2d50a2f64a41f96842f471119066b43a76b901b126abc238\n",
      "Successfully built tree\n",
      "Installing collected packages: svgwrite, tree\n",
      "Successfully installed svgwrite-1.4.3 tree-0.2.4\n",
      "Note: you may need to restart the kernel to use updated packages.\n"
     ]
    }
   ],
   "source": [
    "!sudo snap install tree"
   ]
  },
  {
   "cell_type": "code",
   "execution_count": 1,
   "id": "8f9f463f-ea2e-4d7b-b7b2-9f528afe987c",
   "metadata": {
    "ExecuteTime": {
     "end_time": "2023-07-15T08:27:39.181973400Z",
     "start_time": "2023-07-15T08:27:39.128811600Z"
    }
   },
   "outputs": [
    {
     "name": "stdout",
     "output_type": "stream",
     "text": [
      "参数太多 - -L\n"
     ]
    }
   ],
   "source": [
    "!tree fruit30_split -L 2"
   ]
  },
  {
   "cell_type": "code",
   "execution_count": null,
   "id": "139d2504-a78a-4145-8520-5206fb51b829",
   "metadata": {},
   "outputs": [],
   "source": []
  }
 ],
 "metadata": {
  "kernelspec": {
   "display_name": "Python 3 (ipykernel)",
   "language": "python",
   "name": "python3"
  },
  "language_info": {
   "codemirror_mode": {
    "name": "ipython",
    "version": 3
   },
   "file_extension": ".py",
   "mimetype": "text/x-python",
   "name": "python",
   "nbconvert_exporter": "python",
   "pygments_lexer": "ipython3",
   "version": "3.7.10"
  }
 },
 "nbformat": 4,
 "nbformat_minor": 5
}
