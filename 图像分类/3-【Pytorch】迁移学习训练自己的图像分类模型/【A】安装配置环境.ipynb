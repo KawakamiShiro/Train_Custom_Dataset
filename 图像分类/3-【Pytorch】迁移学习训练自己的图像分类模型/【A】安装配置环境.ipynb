{
 "cells": [
  {
   "cell_type": "markdown",
   "id": "68aa2c39-1a4b-4d3c-ab35-3d44896f2f67",
   "metadata": {},
   "source": [
    "# 安装配置环境\n",
    "\n",
    "同济子豪兄 https://space.bilibili.com/1900783\n",
    "\n",
    "代码运行[云GPU平台](https://featurize.cn/?s=d7ce99f842414bfcaea5662a97581bd1)\n",
    "\n",
    "2023-3-26"
   ]
  },
  {
   "cell_type": "markdown",
   "id": "d56b4a5f-8ec2-4493-8344-580ed67d3d25",
   "metadata": {},
   "source": [
    "## 直接运行代码块即可"
   ]
  },
  {
   "cell_type": "code",
   "execution_count": 1,
   "id": "83c98888-79c0-4f4c-8e64-b9cc65ac797e",
   "metadata": {},
   "outputs": [
    {
     "name": "stdout",
     "output_type": "stream",
     "text": [
      "Looking in indexes: https://pypi.tuna.tsinghua.edu.cn/simple\n",
      "Requirement already satisfied: numpy in /environment/miniconda3/lib/python3.7/site-packages (1.21.4)\n",
      "Requirement already satisfied: pandas in /environment/miniconda3/lib/python3.7/site-packages (1.3.4)\n",
      "Requirement already satisfied: matplotlib in /environment/miniconda3/lib/python3.7/site-packages (3.5.0)\n",
      "Collecting seaborn\n",
      "  Downloading https://pypi.tuna.tsinghua.edu.cn/packages/8f/2e/17bbb83fbf102687bb2aa3d808add39da820a7698159302a1a69bb82e01c/seaborn-0.12.2-py3-none-any.whl (293 kB)\n",
      "\u001B[K     |████████████████████████████████| 293 kB 3.8 MB/s eta 0:00:01\n",
      "\u001B[?25hRequirement already satisfied: plotly in /environment/miniconda3/lib/python3.7/site-packages (5.4.0)\n",
      "Requirement already satisfied: requests in /environment/miniconda3/lib/python3.7/site-packages (2.24.0)\n",
      "Requirement already satisfied: tqdm in /environment/miniconda3/lib/python3.7/site-packages (4.61.2)\n",
      "Requirement already satisfied: opencv-python in /environment/miniconda3/lib/python3.7/site-packages (4.5.4.60)\n",
      "Requirement already satisfied: pillow in /environment/miniconda3/lib/python3.7/site-packages (8.4.0)\n",
      "Collecting wandb\n",
      "  Downloading https://pypi.tuna.tsinghua.edu.cn/packages/f9/a6/1696ae6252d664c44fc7e0dafee9cc5084211583f8febb53f7d0516c2f18/wandb-0.14.0-py3-none-any.whl (2.0 MB)\n",
      "\u001B[K     |████████████████████████████████| 2.0 MB 41.1 MB/s eta 0:00:01\n",
      "\u001B[?25hRequirement already satisfied: python-dateutil>=2.7.3 in /environment/miniconda3/lib/python3.7/site-packages (from pandas) (2.8.2)\n",
      "Requirement already satisfied: pytz>=2017.3 in /environment/miniconda3/lib/python3.7/site-packages (from pandas) (2021.3)\n",
      "Requirement already satisfied: six>=1.5 in /environment/miniconda3/lib/python3.7/site-packages (from python-dateutil>=2.7.3->pandas) (1.16.0)\n",
      "Requirement already satisfied: cycler>=0.10 in /environment/miniconda3/lib/python3.7/site-packages (from matplotlib) (0.11.0)\n",
      "Requirement already satisfied: pyparsing>=2.2.1 in /environment/miniconda3/lib/python3.7/site-packages (from matplotlib) (3.0.6)\n",
      "Requirement already satisfied: kiwisolver>=1.0.1 in /environment/miniconda3/lib/python3.7/site-packages (from matplotlib) (1.3.2)\n",
      "Requirement already satisfied: fonttools>=4.22.0 in /environment/miniconda3/lib/python3.7/site-packages (from matplotlib) (4.28.3)\n",
      "Requirement already satisfied: setuptools-scm>=4 in /environment/miniconda3/lib/python3.7/site-packages (from matplotlib) (6.3.2)\n",
      "Requirement already satisfied: packaging>=20.0 in /environment/miniconda3/lib/python3.7/site-packages (from matplotlib) (21.3)\n",
      "Requirement already satisfied: tomli>=1.0.0 in /environment/miniconda3/lib/python3.7/site-packages (from setuptools-scm>=4->matplotlib) (1.2.2)\n",
      "Requirement already satisfied: setuptools in /environment/miniconda3/lib/python3.7/site-packages (from setuptools-scm>=4->matplotlib) (52.0.0.post20210125)\n",
      "Requirement already satisfied: typing_extensions in /environment/miniconda3/lib/python3.7/site-packages (from seaborn) (4.0.1)\n",
      "Requirement already satisfied: tenacity>=6.2.0 in /environment/miniconda3/lib/python3.7/site-packages (from plotly) (8.0.1)\n",
      "Requirement already satisfied: urllib3!=1.25.0,!=1.25.1,<1.26,>=1.21.1 in /environment/miniconda3/lib/python3.7/site-packages (from requests) (1.25.11)\n",
      "Requirement already satisfied: idna<3,>=2.5 in /environment/miniconda3/lib/python3.7/site-packages (from requests) (2.10)\n",
      "Requirement already satisfied: certifi>=2017.4.17 in /environment/miniconda3/lib/python3.7/site-packages (from requests) (2021.5.30)\n",
      "Requirement already satisfied: chardet<4,>=3.0.2 in /environment/miniconda3/lib/python3.7/site-packages (from requests) (3.0.4)\n",
      "Requirement already satisfied: Click!=8.0.0,>=7.0 in /environment/miniconda3/lib/python3.7/site-packages (from wandb) (7.1.2)\n",
      "Collecting setproctitle\n",
      "  Downloading https://pypi.tuna.tsinghua.edu.cn/packages/4b/b1/95367ba12415e48f331379032fe8060c56fbddc0b74838d1c6668e031a44/setproctitle-1.3.2-cp37-cp37m-manylinux_2_5_x86_64.manylinux1_x86_64.manylinux_2_17_x86_64.manylinux2014_x86_64.whl (30 kB)\n",
      "Requirement already satisfied: protobuf!=4.21.0,<5,>=3.12.0 in /environment/miniconda3/lib/python3.7/site-packages (from wandb) (3.19.1)\n",
      "Collecting sentry-sdk>=1.0.0\n",
      "  Downloading https://pypi.tuna.tsinghua.edu.cn/packages/e5/c5/669e528a5ccb16c22ef239a8dc9e51c855a2bcea548e8d71808ce1438045/sentry_sdk-1.17.0-py2.py3-none-any.whl (189 kB)\n",
      "\u001B[K     |████████████████████████████████| 189 kB 54.8 MB/s eta 0:00:01\n",
      "\u001B[?25hCollecting psutil>=5.0.0\n",
      "  Downloading https://pypi.tuna.tsinghua.edu.cn/packages/6e/c8/784968329c1c67c28cce91991ef9af8a8913aa5a3399a6a8954b1380572f/psutil-5.9.4-cp36-abi3-manylinux_2_12_x86_64.manylinux2010_x86_64.manylinux_2_17_x86_64.manylinux2014_x86_64.whl (280 kB)\n",
      "\u001B[K     |████████████████████████████████| 280 kB 92.4 MB/s eta 0:00:01\n",
      "\u001B[?25hCollecting pathtools\n",
      "  Downloading https://pypi.tuna.tsinghua.edu.cn/packages/e7/7f/470d6fcdf23f9f3518f6b0b76be9df16dcc8630ad409947f8be2eb0ed13a/pathtools-0.1.2.tar.gz (11 kB)\n",
      "Requirement already satisfied: PyYAML in /environment/miniconda3/lib/python3.7/site-packages (from wandb) (6.0)\n",
      "Collecting GitPython!=3.1.29,>=1.0.0\n",
      "  Downloading https://pypi.tuna.tsinghua.edu.cn/packages/9e/8a/d1e02cc111d65b0346f70abb83c51f8593e7134bf694a4a56d1a470caaf7/GitPython-3.1.31-py3-none-any.whl (184 kB)\n",
      "\u001B[K     |████████████████████████████████| 184 kB 82.9 MB/s eta 0:00:01\n",
      "\u001B[?25hCollecting appdirs>=1.4.3\n",
      "  Downloading https://pypi.tuna.tsinghua.edu.cn/packages/3b/00/2344469e2084fb287c2e0b57b72910309874c3245463acd6cf5e3db69324/appdirs-1.4.4-py2.py3-none-any.whl (9.6 kB)\n",
      "Collecting docker-pycreds>=0.4.0\n",
      "  Downloading https://pypi.tuna.tsinghua.edu.cn/packages/f5/e8/f6bd1eee09314e7e6dee49cbe2c5e22314ccdb38db16c9fc72d2fa80d054/docker_pycreds-0.4.0-py2.py3-none-any.whl (9.0 kB)\n",
      "Collecting gitdb<5,>=4.0.1\n",
      "  Downloading https://pypi.tuna.tsinghua.edu.cn/packages/21/a6/35f83efec687615c711fe0a09b67e58f6d1254db27b1013119de46f450bd/gitdb-4.0.10-py3-none-any.whl (62 kB)\n",
      "\u001B[K     |████████████████████████████████| 62 kB 30.8 MB/s eta 0:00:01\n",
      "\u001B[?25hCollecting smmap<6,>=3.0.1\n",
      "  Downloading https://pypi.tuna.tsinghua.edu.cn/packages/6d/01/7caa71608bc29952ae09b0be63a539e50d2484bc37747797a66a60679856/smmap-5.0.0-py3-none-any.whl (24 kB)\n",
      "Collecting sentry-sdk>=1.0.0\n",
      "  Downloading https://pypi.tuna.tsinghua.edu.cn/packages/e4/03/4a3e03619eb41b4d9028d377869cc29a5a2095975ca9e8d9b64cb87e1450/sentry_sdk-1.16.0-py2.py3-none-any.whl (184 kB)\n",
      "\u001B[K     |████████████████████████████████| 184 kB 78.5 MB/s eta 0:00:01\n",
      "\u001B[?25h  Downloading https://pypi.tuna.tsinghua.edu.cn/packages/bf/aa/63c8e43ec1bcb872844aa62edb8811aa35249319a729293d331296ef3206/sentry_sdk-1.15.0-py2.py3-none-any.whl (181 kB)\n",
      "\u001B[K     |████████████████████████████████| 181 kB 80.5 MB/s eta 0:00:01\n",
      "\u001B[?25h  Downloading https://pypi.tuna.tsinghua.edu.cn/packages/06/fa/cfc43276f3221006d861bf7e66d7361a47106121df65947fd3225793d845/sentry_sdk-1.14.0-py2.py3-none-any.whl (178 kB)\n",
      "\u001B[K     |████████████████████████████████| 178 kB 102.4 MB/s eta 0:00:01\n",
      "\u001B[?25h  Downloading https://pypi.tuna.tsinghua.edu.cn/packages/72/d9/180f76abcba93a1c8e131e756564b4c6a7123c2d495d1022f05374c2cf78/sentry_sdk-1.13.0-py2.py3-none-any.whl (177 kB)\n",
      "\u001B[K     |████████████████████████████████| 177 kB 104.3 MB/s eta 0:00:01\n",
      "\u001B[?25h  Downloading https://pypi.tuna.tsinghua.edu.cn/packages/5f/aa/526c8ed2f1e499d641d4cd05a91cd56be9c078597c4b39033a43e794f827/sentry_sdk-1.12.1-py2.py3-none-any.whl (174 kB)\n",
      "\u001B[K     |████████████████████████████████| 174 kB 96.6 MB/s eta 0:00:01\n",
      "\u001B[?25h  Downloading https://pypi.tuna.tsinghua.edu.cn/packages/16/64/9f5374f927a0f3ba9dff23ea8f06e2db0c1f19e3a8a1d2f771a922b57cc9/sentry_sdk-1.12.0-py2.py3-none-any.whl (173 kB)\n",
      "\u001B[K     |████████████████████████████████| 173 kB 98.7 MB/s eta 0:00:01\n",
      "\u001B[?25h  Downloading https://pypi.tuna.tsinghua.edu.cn/packages/04/d7/7926583375f71c753b6d136b70af30b88d0455b1b0c16beef95740c648d5/sentry_sdk-1.11.1-py2.py3-none-any.whl (168 kB)\n",
      "\u001B[K     |████████████████████████████████| 168 kB 89.9 MB/s eta 0:00:01\n",
      "\u001B[?25h  Downloading https://pypi.tuna.tsinghua.edu.cn/packages/b9/73/c3201e119935c18521d2aed60803269ffe0ac92b22a84e8717b68478eec6/sentry_sdk-1.11.0-py2.py3-none-any.whl (168 kB)\n",
      "\u001B[K     |████████████████████████████████| 168 kB 87.8 MB/s eta 0:00:01\n",
      "\u001B[?25h  Downloading https://pypi.tuna.tsinghua.edu.cn/packages/48/ad/1adaf9c1c89b105e3244367bb621627b2e8104c72648ee82139c8c69ccb8/sentry_sdk-1.10.1-py2.py3-none-any.whl (166 kB)\n",
      "\u001B[K     |████████████████████████████████| 166 kB 87.6 MB/s eta 0:00:01\n",
      "\u001B[?25h  Downloading https://pypi.tuna.tsinghua.edu.cn/packages/68/0f/6986940f2c56d8eb65f0b1b9a4785d455fcf42a38bceaf22c0c979d13e47/sentry_sdk-1.10.0-py2.py3-none-any.whl (166 kB)\n",
      "\u001B[K     |████████████████████████████████| 166 kB 93.2 MB/s eta 0:00:01\n",
      "\u001B[?25h  Downloading https://pypi.tuna.tsinghua.edu.cn/packages/06/c6/331d30886b234073ea199f887e3231bb17effc6af495bcee73f164964035/sentry_sdk-1.9.10-py2.py3-none-any.whl (162 kB)\n",
      "\u001B[K     |████████████████████████████████| 162 kB 94.3 MB/s eta 0:00:01\n",
      "\u001B[?25h  Downloading https://pypi.tuna.tsinghua.edu.cn/packages/97/ad/5f8fd1bdeee1219f9de19b73fbd04a0215f846b46aa11b2385a3a008b332/sentry_sdk-1.9.9-py2.py3-none-any.whl (162 kB)\n",
      "\u001B[K     |████████████████████████████████| 162 kB 99.3 MB/s eta 0:00:01\n",
      "\u001B[?25h  Downloading https://pypi.tuna.tsinghua.edu.cn/packages/f9/98/c23dac4969025da6614490374e19b5a2d39c638e99bf89bdbe9e3cd90f26/sentry_sdk-1.9.8-py2.py3-none-any.whl (158 kB)\n",
      "\u001B[K     |████████████████████████████████| 158 kB 93.7 MB/s eta 0:00:01\n",
      "\u001B[?25h  Downloading https://pypi.tuna.tsinghua.edu.cn/packages/ca/3c/94daf65b5a9dbf19f12af6de67841fec3ce5c80d1bc252b6180d7b5e6382/sentry_sdk-1.9.7-py2.py3-none-any.whl (157 kB)\n",
      "\u001B[K     |████████████████████████████████| 157 kB 102.7 MB/s eta 0:00:01\n",
      "\u001B[?25h  Downloading https://pypi.tuna.tsinghua.edu.cn/packages/0a/3d/4ef597b13bf0a4b373b9f4a28f6bef9639fcf3ea620206a6037a4698aa2e/sentry_sdk-1.9.6-py2.py3-none-any.whl (157 kB)\n",
      "\u001B[K     |████████████████████████████████| 157 kB 96.7 MB/s eta 0:00:01\n",
      "\u001B[?25h  Downloading https://pypi.tuna.tsinghua.edu.cn/packages/7d/c3/7da8ce136e156f07ad75b397bb13a2aebdcc6cc85e0a2a564b79224f94fe/sentry_sdk-1.9.5-py2.py3-none-any.whl (157 kB)\n",
      "\u001B[K     |████████████████████████████████| 157 kB 100.2 MB/s eta 0:00:01\n",
      "\u001B[?25h  Downloading https://pypi.tuna.tsinghua.edu.cn/packages/ab/c9/3bc0544f77cf39ff97e6f732e01401f7e81a62a8c6d77e0a1d9addbdc695/sentry_sdk-1.9.4-py2.py3-none-any.whl (157 kB)\n",
      "\u001B[K     |████████████████████████████████| 157 kB 95.6 MB/s eta 0:00:01\n",
      "\u001B[?25h  Downloading https://pypi.tuna.tsinghua.edu.cn/packages/15/6b/dd03f466be7535087b0fb68282d4e54266aaca3c9917ece3302ce4706d56/sentry_sdk-1.9.3-py2.py3-none-any.whl (157 kB)\n",
      "\u001B[K     |████████████████████████████████| 157 kB 95.2 MB/s eta 0:00:01\n",
      "\u001B[?25h  Downloading https://pypi.tuna.tsinghua.edu.cn/packages/96/04/1bb0decdc869b42a9e48f93a0c07e1f6a088088ed60746bbea473cbfa12c/sentry_sdk-1.9.2-py2.py3-none-any.whl (157 kB)\n",
      "\u001B[K     |████████████████████████████████| 157 kB 100.5 MB/s eta 0:00:01\n",
      "\u001B[?25h  Downloading https://pypi.tuna.tsinghua.edu.cn/packages/f4/72/464966f2c60696bae0eae55270f29883e03581d12aeecddf87ef5ffb6752/sentry_sdk-1.9.1-py2.py3-none-any.whl (157 kB)\n",
      "\u001B[K     |████████████████████████████████| 157 kB 102.9 MB/s eta 0:00:01\n",
      "\u001B[?25h  Downloading https://pypi.tuna.tsinghua.edu.cn/packages/34/ee/92a218cc1563eda06bc50117e1b5d004b46d1a7784c387c9bf91685e1311/sentry_sdk-1.9.0-py2.py3-none-any.whl (156 kB)\n",
      "\u001B[K     |████████████████████████████████| 156 kB 103.6 MB/s eta 0:00:01\n",
      "\u001B[?25hBuilding wheels for collected packages: pathtools\n",
      "  Building wheel for pathtools (setup.py) ... \u001B[?25ldone\n",
      "\u001B[?25h  Created wheel for pathtools: filename=pathtools-0.1.2-py3-none-any.whl size=8784 sha256=eca211f472b418c7b21ab8c4797720ea103b4a8d6b8f1129a77242bb434cf234\n",
      "  Stored in directory: /home/featurize/.cache/pip/wheels/32/da/c2/cb31f0a788c8190fa7a3a6b21515f3a7ee22b59e84344cae9a\n",
      "Successfully built pathtools\n",
      "Installing collected packages: smmap, gitdb, setproctitle, sentry-sdk, psutil, pathtools, GitPython, docker-pycreds, appdirs, wandb, seaborn\n",
      "Successfully installed GitPython-3.1.31 appdirs-1.4.4 docker-pycreds-0.4.0 gitdb-4.0.10 pathtools-0.1.2 psutil-5.9.4 seaborn-0.12.2 sentry-sdk-1.9.0 setproctitle-1.3.2 smmap-5.0.0 wandb-0.14.0\n"
     ]
    }
   ],
   "source": [
    "!pip install numpy pandas matplotlib seaborn plotly requests tqdm opencv-python pillow wandb -i https://pypi.tuna.tsinghua.edu.cn/simple"
   ]
  },
  {
   "cell_type": "markdown",
   "id": "f34acebb-ad33-4775-a842-3df6e4cce3fb",
   "metadata": {},
   "source": [
    "## 下载安装Pytorch"
   ]
  },
  {
   "cell_type": "code",
   "execution_count": 1,
   "id": "f9c9f8de-2c5e-477e-8893-f1435e3ff331",
   "metadata": {
    "ExecuteTime": {
     "end_time": "2023-07-15T08:03:27.487267200Z",
     "start_time": "2023-07-15T08:02:47.678501Z"
    }
   },
   "outputs": [
    {
     "name": "stdout",
     "output_type": "stream",
     "text": [
      "Looking in indexes: https://pypi.org/simple, https://download.pytorch.org/whl/cu113\n",
      "Requirement already satisfied: torch in c:\\users\\20363\\anaconda3\\lib\\site-packages (1.12.1)\n",
      "Requirement already satisfied: torchvision in c:\\users\\20363\\anaconda3\\lib\\site-packages (0.15.2a0)\n",
      "Collecting torchaudio\n",
      "  Downloading torchaudio-2.0.2-cp310-cp310-win_amd64.whl (2.1 MB)\n",
      "     ---------------------------------------- 2.1/2.1 MB 4.0 MB/s eta 0:00:00\n",
      "Requirement already satisfied: typing_extensions in c:\\users\\20363\\anaconda3\\lib\\site-packages (from torch) (4.4.0)\n",
      "Requirement already satisfied: requests in c:\\users\\20363\\anaconda3\\lib\\site-packages (from torchvision) (2.28.1)\n",
      "Requirement already satisfied: numpy in c:\\users\\20363\\anaconda3\\lib\\site-packages (from torchvision) (1.24.0)\n",
      "Requirement already satisfied: pillow!=8.3.*,>=5.3.0 in c:\\users\\20363\\appdata\\roaming\\python\\python310\\site-packages (from torchvision) (10.0.0)\n",
      "Collecting torch\n",
      "  Downloading torch-2.0.1-cp310-cp310-win_amd64.whl (172.3 MB)\n",
      "     -------------------------------------- 172.3/172.3 MB 9.3 MB/s eta 0:00:00\n",
      "Requirement already satisfied: filelock in c:\\users\\20363\\anaconda3\\lib\\site-packages (from torch) (3.9.0)\n",
      "Requirement already satisfied: jinja2 in c:\\users\\20363\\anaconda3\\lib\\site-packages (from torch) (3.1.2)\n",
      "Requirement already satisfied: sympy in c:\\users\\20363\\anaconda3\\lib\\site-packages (from torch) (1.11.1)\n",
      "Requirement already satisfied: networkx in c:\\users\\20363\\anaconda3\\lib\\site-packages (from torch) (2.8.4)\n",
      "Requirement already satisfied: MarkupSafe>=2.0 in c:\\users\\20363\\anaconda3\\lib\\site-packages (from jinja2->torch) (2.1.1)\n",
      "Requirement already satisfied: idna<4,>=2.5 in c:\\users\\20363\\anaconda3\\lib\\site-packages (from requests->torchvision) (3.4)\n",
      "Requirement already satisfied: urllib3<1.27,>=1.21.1 in c:\\users\\20363\\anaconda3\\lib\\site-packages (from requests->torchvision) (1.26.14)\n",
      "Requirement already satisfied: certifi>=2017.4.17 in c:\\users\\20363\\anaconda3\\lib\\site-packages (from requests->torchvision) (2023.5.7)\n",
      "Requirement already satisfied: charset-normalizer<3,>=2 in c:\\users\\20363\\anaconda3\\lib\\site-packages (from requests->torchvision) (2.0.4)\n",
      "Requirement already satisfied: mpmath>=0.19 in c:\\users\\20363\\anaconda3\\lib\\site-packages (from sympy->torch) (1.2.1)\n",
      "Installing collected packages: torch, torchaudio\n",
      "  Attempting uninstall: torch\n",
      "    Found existing installation: torch 1.12.1\n",
      "    Uninstalling torch-1.12.1:\n",
      "      Successfully uninstalled torch-1.12.1\n",
      "Successfully installed torch-2.0.1 torchaudio-2.0.2\n"
     ]
    }
   ],
   "source": [
    "!pip3 install torch torchvision torchaudio --extra-index-url https://download.pytorch.org/whl/cu113"
   ]
  },
  {
   "cell_type": "markdown",
   "id": "4df3fa7c-23d2-4db1-a12f-8fafbe96b16d",
   "metadata": {},
   "source": [
    "## 下载中文字体文件"
   ]
  },
  {
   "cell_type": "code",
   "execution_count": 1,
   "id": "a18e57f9-0ece-4d34-a0fd-0642a778a3b6",
   "metadata": {},
   "outputs": [
    {
     "name": "stdout",
     "output_type": "stream",
     "text": [
      "--2022-08-17 17:15:56--  https://zihao-openmmlab.obs.cn-east-3.myhuaweicloud.com/20220716-mmclassification/dataset/SimHei.ttf\n",
      "Connecting to 172.16.0.13:5848... connected.\n",
      "Proxy request sent, awaiting response... 200 OK\n",
      "Length: 10050868 (9.6M) [application/x-font-ttf]\n",
      "Saving to: ‘SimHei.ttf’\n",
      "\n",
      "SimHei.ttf          100%[===================>]   9.58M  21.5MB/s    in 0.4s    \n",
      "\n",
      "2022-08-17 17:15:56 (21.5 MB/s) - ‘SimHei.ttf’ saved [10050868/10050868]\n",
      "\n"
     ]
    }
   ],
   "source": [
    "!wget https://zihao-openmmlab.obs.cn-east-3.myhuaweicloud.com/20220716-mmclassification/dataset/SimHei.ttf --no-check-certificate\n"
   ]
  },
  {
   "cell_type": "markdown",
   "id": "5628a6f7-e356-4d45-95ee-17fcb316b3c7",
   "metadata": {},
   "source": [
    "## 创建目录"
   ]
  },
  {
   "cell_type": "code",
   "execution_count": 2,
   "id": "d149db7a-5f6e-4513-b5c2-72fdf3eb3e2a",
   "metadata": {
    "ExecuteTime": {
     "end_time": "2023-07-15T08:03:34.218663500Z",
     "start_time": "2023-07-15T08:03:34.205033200Z"
    }
   },
   "outputs": [],
   "source": [
    "import os"
   ]
  },
  {
   "cell_type": "code",
   "execution_count": 3,
   "id": "97a32738-da46-4b63-8b37-8a37dbf79602",
   "metadata": {
    "ExecuteTime": {
     "end_time": "2023-07-15T08:04:01.290221Z",
     "start_time": "2023-07-15T08:04:01.275734200Z"
    }
   },
   "outputs": [],
   "source": [
    "# 存放结果文件\n",
    "# os.mkdir('output')\n",
    "\n",
    "# 存放训练得到的模型权重\n",
    "os.mkdir('checkpoint')\n",
    "# 特别注意，不要把文件夹命名成 checkpoints （不要在最后加 s） ，否则在 Jupyter 中打不开，只能压缩后下载压缩包到本地才能打开\n",
    "\n",
    "# 存放生成的图表\n",
    "os.mkdir('图表')"
   ]
  },
  {
   "cell_type": "markdown",
   "id": "5d2dab62-639f-407d-900b-5378a7e631b3",
   "metadata": {},
   "source": [
    "## 设置matplotlib中文字体"
   ]
  },
  {
   "cell_type": "code",
   "execution_count": 1,
   "id": "12f5d4c9-aa6c-41ce-9094-08118eb6fba1",
   "metadata": {},
   "outputs": [],
   "source": [
    "import matplotlib.pyplot as plt\n",
    "%matplotlib inline"
   ]
  },
  {
   "cell_type": "code",
   "execution_count": 2,
   "id": "875f443b-c943-42fe-bb3b-9dfbf01f28f8",
   "metadata": {},
   "outputs": [],
   "source": [
    "# # windows操作系统\n",
    "# plt.rcParams['font.sans-serif']=['SimHei']  # 用来正常显示中文标签 \n",
    "# plt.rcParams['axes.unicode_minus']=False  # 用来正常显示负号"
   ]
  },
  {
   "cell_type": "code",
   "execution_count": 3,
   "id": "b693a006-5a40-49b7-b1da-a2f4e822f140",
   "metadata": {},
   "outputs": [],
   "source": [
    "# Mac操作系统，参考 https://www.ngui.cc/51cto/show-727683.html\n",
    "# 下载 simhei.ttf 字体文件\n",
    "# !wget https://zihao-openmmlab.obs.cn-east-3.myhuaweicloud.com/20220716-mmclassification/dataset/SimHei.ttf"
   ]
  },
  {
   "cell_type": "code",
   "execution_count": 4,
   "id": "ec933a1e-fb24-48ac-a945-69f2149c5301",
   "metadata": {},
   "outputs": [
    {
     "name": "stdout",
     "output_type": "stream",
     "text": [
      "--2023-03-26 17:11:20--  https://zihao-openmmlab.obs.cn-east-3.myhuaweicloud.com/20220716-mmclassification/dataset/SimHei.ttf\n",
      "正在连接 172.16.0.13:5848... 已连接。\n",
      "已发出 Proxy 请求，正在等待回应... 200 OK\n",
      "长度： 10050868 (9.6M) [application/x-font-ttf]\n",
      "正在保存至: “/environment/miniconda3/lib/python3.7/site-packages/matplotlib/mpl-data/fonts/ttf/SimHei.ttf”\n",
      "\n",
      "/environment/minico 100%[===================>]   9.58M  21.9MB/s    用时 0.4s    \n",
      "\n",
      "2023-03-26 17:11:21 (21.9 MB/s) - 已保存 “/environment/miniconda3/lib/python3.7/site-packages/matplotlib/mpl-data/fonts/ttf/SimHei.ttf” [10050868/10050868])\n",
      "\n"
     ]
    }
   ],
   "source": [
    "# Linux操作系统，例如 云GPU平台：https://featurize.cn/?s=d7ce99f842414bfcaea5662a97581bd1\n",
    "# 如果报错 Unable to establish SSL connection.，重新运行本代码块即可\n",
    "!wget https://zihao-openmmlab.obs.cn-east-3.myhuaweicloud.com/20220716-mmclassification/dataset/SimHei.ttf -O /environment/miniconda3/lib/python3.7/site-packages/matplotlib/mpl-data/fonts/ttf/SimHei.ttf --no-check-certificate\n",
    "!rm -rf /home/featurize/.cache/matplotlib\n",
    "\n",
    "import matplotlib\n",
    "import matplotlib.pyplot as plt\n",
    "%matplotlib inline\n",
    "matplotlib.rc(\"font\",family='SimHei') # 中文字体\n",
    "plt.rcParams['axes.unicode_minus']=False  # 用来正常显示负号"
   ]
  },
  {
   "cell_type": "code",
   "execution_count": 6,
   "id": "da0ce49d-5ff5-471d-b19e-4037a2e1dd20",
   "metadata": {
    "ExecuteTime": {
     "end_time": "2023-07-15T08:04:46.974437400Z",
     "start_time": "2023-07-15T08:04:46.847388200Z"
    }
   },
   "outputs": [
    {
     "data": {
      "text/plain": "<Figure size 640x480 with 1 Axes>",
      "image/png": "[encoded data removed]"
     },
     "metadata": {},
     "output_type": "display_data"
    }
   ],
   "source": [
    "import matplotlib\n",
    "import matplotlib.pyplot as plt\n",
    "plt.plot([1,2,3], [100,500,300])\n",
    "plt.title('matplotlibTest', fontsize=25)\n",
    "plt.xlabel('X', fontsize=15)\n",
    "plt.ylabel('Y', fontsize=15)\n",
    "plt.show()"
   ]
  },
  {
   "cell_type": "code",
   "execution_count": null,
   "id": "9bdd3de9-0be3-4591-9c66-54ca9b870b16",
   "metadata": {},
   "outputs": [],
   "source": []
  }
 ],
 "metadata": {
  "kernelspec": {
   "display_name": "Python 3 (ipykernel)",
   "language": "python",
   "name": "python3"
  },
  "language_info": {
   "codemirror_mode": {
    "name": "ipython",
    "version": 3
   },
   "file_extension": ".py",
   "mimetype": "text/x-python",
   "name": "python",
   "nbconvert_exporter": "python",
   "pygments_lexer": "ipython3",
   "version": "3.7.10"
  }
 },
 "nbformat": 4,
 "nbformat_minor": 5
}
